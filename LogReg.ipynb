{
  "cells": [
    {
      "cell_type": "markdown",
      "metadata": {
        "id": "EA-a1zblJGu2"
      },
      "source": [
        "L2-regularized logistic regression for binary or multiclass classification; trains a model (on `train.txt`), optimizes L2 regularization strength on `dev.txt`, and evaluates performance on `test.txt`.  Reports test accuracy with 95% confidence intervals and prints out the strongest coefficients for each class."
      ]
    },
    {
      "cell_type": "code",
      "execution_count": null,
      "metadata": {
        "id": "TQTT9x-6d2JI"
      },
      "outputs": [],
      "source": [
        "from scipy import sparse\n",
        "from sklearn import linear_model\n",
        "from collections import Counter\n",
        "import numpy as np\n",
        "import operator\n",
        "import nltk\n",
        "import math\n",
        "from scipy.stats import norm"
      ]
    },
    {
      "cell_type": "code",
      "execution_count": null,
      "metadata": {
        "colab": {
          "base_uri": "https://localhost:8080/"
        },
        "id": "e4KuVSCSqlUX",
        "outputId": "a0df4eab-e139-47b9-f0d3-307f970e1853",
        "scrolled": true
      },
      "outputs": [
        {
          "output_type": "stream",
          "name": "stdout",
          "text": [
            "/usr/lib/python3.10/runpy.py:126: RuntimeWarning: 'nltk.downloader' found in sys.modules after import of package 'nltk', but prior to execution of 'nltk.downloader'; this may result in unpredictable behaviour\n",
            "  warn(RuntimeWarning(msg))\n",
            "[nltk_data] Downloading package punkt to /root/nltk_data...\n",
            "[nltk_data]   Unzipping tokenizers/punkt.zip.\n"
          ]
        }
      ],
      "source": [
        "!python -m nltk.downloader punkt"
      ]
    },
    {
      "cell_type": "code",
      "execution_count": null,
      "metadata": {
        "id": "gw2vP6d8JGu4"
      },
      "outputs": [],
      "source": [
        "def load_data(filename):\n",
        "    X = []\n",
        "    Y = []\n",
        "    with open(filename, encoding=\"utf-8\") as file:\n",
        "        for line in file:\n",
        "\n",
        "            cols = line.split(\"\\t\")\n",
        "            idd = cols[0]\n",
        "            label = cols[2].lstrip().rstrip()\n",
        "            text = cols[3]\n",
        "\n",
        "            text = ' '.join(word for word in text.split() if len(word) > 3)\n",
        "\n",
        "            X.append(text)\n",
        "            Y.append(label)\n",
        "\n",
        "    return X, Y\n"
      ]
    },
    {
      "cell_type": "code",
      "execution_count": null,
      "metadata": {
        "id": "CGiM8qQiJOBU"
      },
      "outputs": [],
      "source": [
        "from sklearn.feature_extraction.text import TfidfVectorizer\n",
        "import numpy as np\n",
        "from sklearn.metrics import confusion_matrix\n",
        "import seaborn as sns\n",
        "import matplotlib.pyplot as plt\n",
        "\n",
        "class Classifier:\n",
        "    def __init__(self, feature_method, trainX, trainY, devX, devY, testX, testY, C_values=[0.1, 1, 10, 100], max_iter=1000):\n",
        "        self.vectorizer = TfidfVectorizer(min_df=2, tokenizer=feature_method)\n",
        "        self.C_values = C_values\n",
        "        self.max_iter = max_iter\n",
        "\n",
        "        self.trainY = trainY\n",
        "        self.devY = devY\n",
        "        self.testY = testY\n",
        "\n",
        "        self.trainX = self.vectorizer.fit_transform(trainX)\n",
        "        self.devX = self.vectorizer.transform(devX)\n",
        "        self.testX = self.vectorizer.transform(testX)\n",
        "        self.log_reg = None\n",
        "\n",
        "    def train(self):\n",
        "        \"\"\" Train the classifier and determine the best model based on development set performance. \"\"\"\n",
        "        best_dev_accuracy = 0\n",
        "        for C in self.C_values:\n",
        "            model = LogisticRegression(C=C, max_iter=self.max_iter)\n",
        "            model.fit(self.trainX, self.trainY)\n",
        "            dev_accuracy = model.score(self.devX, self.devY)\n",
        "            if dev_accuracy > best_dev_accuracy:\n",
        "                best_dev_accuracy = dev_accuracy\n",
        "                self.log_reg = model\n",
        "            logging.info(f\"C: {C}, Train accuracy: {model.score(self.trainX, self.trainY)}, Dev accuracy: {dev_accuracy}\")\n",
        "\n",
        "    def test(self):\n",
        "        \"\"\" Test the best model on the test set and return the accuracy. \"\"\"\n",
        "\n",
        "        if self.log_reg:\n",
        "          predictions = self.log_reg.predict(self.testX)\n",
        "          accuracy = self.log_reg.score(self.testX, self.testY)\n",
        "          return accuracy, predictions\n",
        "\n",
        "        else:\n",
        "          return None, None\n",
        "\n",
        "    def printWeights(self, n=10):\n",
        "        \"\"\" Print the top n weights for each class in the model. \"\"\"\n",
        "        if self.log_reg is None:\n",
        "            print(\"Model not trained yet.\")\n",
        "            return\n",
        "        if hasattr(self, 'vectorizer'):\n",
        "            feature_names = self.vectorizer.get_feature_names_out()\n",
        "        else:\n",
        "            feature_names = np.arange(self.trainX.shape[1])\n",
        "        coefficients = self.log_reg.coef_\n",
        "        classes = self.log_reg.classes_\n",
        "\n",
        "        for i, class_label in enumerate(classes):\n",
        "            class_coefs = coefficients[i]\n",
        "            if len(coefficients.shape) == 1:\n",
        "                class_coefs = coefficients\n",
        "\n",
        "            top_features_indices = np.argsort(class_coefs)[-n:][::-1]\n",
        "            print(f\"Class '{class_label}' top features:\")\n",
        "            for idx in top_features_indices:\n",
        "                print(f\"{feature_names[idx]}: {class_coefs[idx]:.3f}\")\n",
        "            print()\n",
        "\n",
        "    def print_confusion_matrix(self):\n",
        "        if self.log_reg:\n",
        "            _, predictions = self.test()\n",
        "            cm = confusion_matrix(self.testY, predictions)\n",
        "            sns.heatmap(cm, annot=True, fmt='d', cmap='Blues', cbar=False, xticklabels= ['Adolescent', 'Adult', 'Child', 'Young Adult'], yticklabels= ['Adolescent', 'Adult', 'Child', 'Young Adult'])\n",
        "            plt.xlabel('Predicted Label')\n",
        "            plt.ylabel('True Label')\n",
        "            plt.title('Confusion Matrix')\n",
        "            plt.show()\n",
        "        else:\n",
        "            print(\"Model not trained or no predictions available.\")\n"
      ]
    },
    {
      "cell_type": "code",
      "execution_count": null,
      "metadata": {
        "colab": {
          "base_uri": "https://localhost:8080/"
        },
        "id": "HeCidWjOJGu4",
        "outputId": "a048a200-030b-4b2d-da32-30d6d2f6cb79"
      },
      "outputs": [
        {
          "output_type": "stream",
          "name": "stderr",
          "text": [
            "[nltk_data] Downloading package wordnet to /root/nltk_data...\n",
            "[nltk_data]   Package wordnet is already up-to-date!\n",
            "[nltk_data] Downloading package stopwords to /root/nltk_data...\n",
            "[nltk_data]   Package stopwords is already up-to-date!\n"
          ]
        }
      ],
      "source": [
        "import nltk\n",
        "from nltk.corpus import stopwords\n",
        "from nltk.tokenize import word_tokenize\n",
        "from nltk.util import ngrams\n",
        "from collections import Counter\n",
        "from nltk.stem import WordNetLemmatizer\n",
        "nltk.download('wordnet')\n",
        "nltk.download('stopwords')\n",
        "\n",
        "def enhanced_bow_featurize(text, ngram_range=(1, 2)):\n",
        "    feats = {}\n",
        "    words = word_tokenize(text.lower())\n",
        "    lemmatizer = WordNetLemmatizer()\n",
        "    words = [lemmatizer.lemmatize(word) for word in words]\n",
        "    stop_words = set(stopwords.words('english'))\n",
        "    words = [word for word in words if word not in stop_words]\n",
        "    all_ngrams = []\n",
        "    for n in range(ngram_range[0], ngram_range[1] + 1):\n",
        "        all_ngrams.extend(ngrams(words, n))\n",
        "    ngram_counts = Counter(all_ngrams)\n",
        "\n",
        "    xxx = load_data(\"train_data.txt\")[0]\n",
        "\n",
        "    document_frequencies = defaultdict(int)\n",
        "    for doc in xxx:\n",
        "        # Tokenize words\n",
        "        tokens = word_tokenize(doc.lower())\n",
        "        stop_words = set(stopwords.words('english'))\n",
        "        tokens = [token for token in tokens if token not in string.punctuation and token not in stop_words]\n",
        "        bigram_tokens = list(bigrams(tokens))\n",
        "        unique_bigrams = set(bigram_tokens)\n",
        "        for bigram in unique_bigrams:\n",
        "            document_frequencies[bigram] += 1\n",
        "\n",
        "    total_documents = len(docs)\n",
        "    idf_values = {}\n",
        "\n",
        "    for bigram, df in document_frequencies.items():\n",
        "        idf = math.log((total_documents + 1) / (df + 1)) + 1  # Using log base e\n",
        "        idf_values[bigram] = idf\n",
        "\n",
        "    if idf:\n",
        "        total_ngrams = sum(ngram_counts.values())\n",
        "        for ngram, count in ngram_counts.items():\n",
        "            tf = count / total_ngrams\n",
        "            idf = idf_values.get(ngram, 0)\n",
        "            feats[ngram] = tf * idf\n",
        "    else:\n",
        "        # Use simple term frequency if no IDF values are provided\n",
        "        feats.update(ngram_counts)\n",
        "\n",
        "    return feats\n",
        "\n"
      ]
    },
    {
      "cell_type": "code",
      "source": [
        "def binary_bow_featurize(text):\n",
        "    feats = {}\n",
        "    words = nltk.word_tokenize(text)\n",
        "\n",
        "    for word in words:\n",
        "        word=word.lower()\n",
        "        feats[word]=1\n",
        "\n",
        "    return feats"
      ],
      "metadata": {
        "id": "viqBf27JYLzI"
      },
      "execution_count": null,
      "outputs": []
    },
    {
      "cell_type": "code",
      "execution_count": null,
      "metadata": {
        "id": "f16oWGotJGu4"
      },
      "outputs": [],
      "source": [
        "def confidence_intervals(accuracy, n, significance_level):\n",
        "    critical_value=(1-significance_level)/2\n",
        "    z_alpha=-1*norm.ppf(critical_value)\n",
        "    se=math.sqrt((accuracy*(1-accuracy))/n)\n",
        "    return accuracy-(se*z_alpha), accuracy+(se*z_alpha)"
      ]
    },
    {
      "cell_type": "code",
      "execution_count": null,
      "metadata": {
        "id": "PIz7aehRJGu4"
      },
      "outputs": [],
      "source": [
        "def run(trainingFile, devFile, testFile):\n",
        "    trainX, trainY=load_data(trainingFile)\n",
        "    devX, devY=load_data(devFile)\n",
        "    testX, testY=load_data(testFile)\n",
        "    #simple_classifier = Classifier(enahnced_bow_featurize, trainX, trainY, devX, devY, testX, testY)\n",
        "\n",
        "\n",
        "    simple_classifier = Classifier(binary_bow_featurize, trainX, trainY, devX, devY, testX, testY)\n",
        "    simple_classifier.train()\n",
        "    accuracy=simple_classifier.test()[0]\n",
        "\n",
        "    lower, upper=confidence_intervals(accuracy, len(testY), .95)\n",
        "    print(\"Test accuracy for best dev model: %.3f, 95%% CIs: [%.3f %.3f]\\n\" % (accuracy, lower, upper))\n",
        "\n",
        "    simple_classifier.printWeights()\n",
        "    simple_classifier.print_confusion_matrix()\n",
        "\n",
        "\n"
      ]
    },
    {
      "cell_type": "code",
      "source": [
        "trainingFile = \"train_data.txt\"\n",
        "devFile = \"dev_data.txt\"\n",
        "testFile = \"test_data.txt\"\n",
        "\n",
        "run(trainingFile, devFile, testFile)"
      ],
      "metadata": {
        "colab": {
          "base_uri": "https://localhost:8080/",
          "height": 1000
        },
        "id": "1xVfZ5yhevvS",
        "outputId": "840b4373-f909-4611-d0fd-1deed249898b"
      },
      "execution_count": null,
      "outputs": [
        {
          "output_type": "stream",
          "name": "stderr",
          "text": [
            "/usr/local/lib/python3.10/dist-packages/sklearn/feature_extraction/text.py:528: UserWarning: The parameter 'token_pattern' will not be used since 'tokenizer' is not None'\n",
            "  warnings.warn(\n"
          ]
        },
        {
          "output_type": "stream",
          "name": "stdout",
          "text": [
            "Test accuracy for best dev model: 0.515, 95% CIs: [0.417 0.614]\n",
            "\n",
            "Class 'Adolescent' top features:\n",
            "ago: 0.351\n",
            "evening: 0.281\n",
            "off: 0.280\n",
            "early: 0.276\n",
            "familiar: 0.273\n",
            "warned: 0.265\n",
            "standing: 0.263\n",
            "opened: 0.260\n",
            "observations: 0.259\n",
            "until: 0.257\n",
            "\n",
            "Class 'Adult' top features:\n",
            "times: 0.369\n",
            "before: 0.349\n",
            "between: 0.330\n",
            "died: 0.323\n",
            "sight: 0.298\n",
            "present: 0.298\n",
            "able: 0.290\n",
            "): 0.289\n",
            "road: 0.288\n",
            "hope: 0.277\n",
            "\n",
            "Class 'Child' top features:\n",
            "children: 0.610\n",
            "visit: 0.364\n",
            "jolly: 0.355\n",
            "adventures: 0.354\n",
            "why: 0.349\n",
            "surprise: 0.340\n",
            "make: 0.308\n",
            "nice: 0.300\n",
            "asked: 0.300\n",
            "farmer: 0.294\n",
            "\n",
            "Class 'Young Adult' top features:\n",
            "shows: 0.347\n",
            "london: 0.343\n",
            "master: 0.324\n",
            "young: 0.319\n",
            "some: 0.310\n",
            "society: 0.290\n",
            "government: 0.287\n",
            "same: 0.282\n",
            "visits: 0.264\n",
            "ships: 0.263\n",
            "\n"
          ]
        },
        {
          "output_type": "display_data",
          "data": {
            "text/plain": [
              "<Figure size 640x480 with 1 Axes>"
            ],
            "image/png": "[encoded data removed]"
          },
          "metadata": {}
        }
      ]
    },
    {
      "cell_type": "code",
      "execution_count": null,
      "metadata": {
        "colab": {
          "base_uri": "https://localhost:8080/"
        },
        "id": "FJLu1mZyJGu5",
        "outputId": "b8b32792-4dab-44a9-f84e-42568f839a0d"
      },
      "outputs": [
        {
          "output_type": "stream",
          "name": "stderr",
          "text": [
            "/usr/local/lib/python3.10/dist-packages/sklearn/feature_extraction/text.py:528: UserWarning: The parameter 'token_pattern' will not be used since 'tokenizer' is not None'\n",
            "  warnings.warn(\n"
          ]
        },
        {
          "output_type": "stream",
          "name": "stdout",
          "text": [
            "Test accuracy for best dev model: 0.475, 95% CIs: [0.376 0.573]\n",
            "\n",
            "Class 'Adolescent' top features:\n",
            "('ago',): 0.288\n",
            "('said', '.'): 0.286\n",
            "(',', 'though'): 0.271\n",
            "('.', 'always'): 0.254\n",
            "('fall',): 0.250\n",
            "('ago', '.'): 0.249\n",
            "('trust',): 0.243\n",
            "('sound',): 0.234\n",
            "('.', 'could'): 0.233\n",
            "('early',): 0.230\n",
            "\n",
            "Class 'Adult' top features:\n",
            "('quality',): 0.277\n",
            "('doctor',): 0.269\n",
            "('terror',): 0.268\n",
            "('love',): 0.264\n",
            "('died',): 0.257\n",
            "('present',): 0.247\n",
            "('road',): 0.238\n",
            "('able',): 0.236\n",
            "(')',): 0.233\n",
            "('sight',): 0.233\n",
            "\n",
            "Class 'Child' top features:\n",
            "('child',): 0.428\n",
            "(':', '``'): 0.304\n",
            "(\"''\", 'said'): 0.291\n",
            "('elephant',): 0.280\n",
            "('jolly',): 0.274\n",
            "('farmer',): 0.271\n",
            "('surprise',): 0.250\n",
            "('nice',): 0.242\n",
            "('asked',): 0.241\n",
            "('named',): 0.232\n",
            "\n",
            "Class 'Young Adult' top features:\n",
            "('london',): 0.290\n",
            "('master',): 0.272\n",
            "('young',): 0.268\n",
            "('society',): 0.250\n",
            "('store',): 0.235\n",
            "('step',): 0.230\n",
            "('mine', ','): 0.225\n",
            "('government',): 0.225\n",
            "('later',): 0.219\n",
            "('general',): 0.216\n",
            "\n"
          ]
        }
      ],
      "source": [
        "trainingFile = \"train_data.txt\"\n",
        "devFile = \"dev_data.txt\"\n",
        "testFile = \"test_data.txt\"\n",
        "\n",
        "run(trainingFile, devFile, testFile)\n"
      ]
    },
    {
      "cell_type": "code",
      "source": [],
      "metadata": {
        "colab": {
          "base_uri": "https://localhost:8080/",
          "height": 141
        },
        "id": "NvS718rbpK07",
        "outputId": "4652a490-1f7c-4638-cf13-5052d9c9bc62"
      },
      "execution_count": null,
      "outputs": [
        {
          "output_type": "error",
          "ename": "NameError",
          "evalue": "name 'labels' is not defined",
          "traceback": [
            "\u001b[0;31m---------------------------------------------------------------------------\u001b[0m",
            "\u001b[0;31mNameError\u001b[0m                                 Traceback (most recent call last)",
            "\u001b[0;32m<ipython-input-67-0a1df294b701>\u001b[0m in \u001b[0;36m<cell line: 1>\u001b[0;34m()\u001b[0m\n\u001b[0;32m----> 1\u001b[0;31m \u001b[0mlabels\u001b[0m\u001b[0;34m\u001b[0m\u001b[0;34m\u001b[0m\u001b[0m\n\u001b[0m",
            "\u001b[0;31mNameError\u001b[0m: name 'labels' is not defined"
          ]
        }
      ]
    },
    {
      "cell_type": "code",
      "execution_count": null,
      "metadata": {
        "id": "jpEh82QzJGu5"
      },
      "outputs": [],
      "source": [
        "import random\n",
        "\n",
        "def load_data(file_path):\n",
        "    \"\"\" Load data from a file. \"\"\"\n",
        "    with open(file_path, 'r', encoding='utf-8') as file:\n",
        "        data = file.readlines()\n",
        "    return data\n",
        "\n",
        "def split_data(data, train_frac=0.6, dev_frac=0.2):\n",
        "    \"\"\" Shuffle and split data into train, dev, and test sets. \"\"\"\n",
        "    random.shuffle(data)  # Shuffle the data randomly\n",
        "    total = len(data)\n",
        "    train_end = int(total * train_frac)\n",
        "    dev_end = train_end + int(total * dev_frac)\n",
        "\n",
        "    train_data = data[:train_end]\n",
        "    dev_data = data[train_end:dev_end]\n",
        "    test_data = data[dev_end:]\n",
        "    return train_data, dev_data, test_data\n",
        "\n",
        "def save_data(data, file_name):\n",
        "    \"\"\" Save the data to a file. \"\"\"\n",
        "    with open(file_name, 'w', encoding='utf-8') as file:\n",
        "        file.writelines(data)\n",
        "\n",
        "# Example usage:\n",
        "file_path = 'adjudicated.txt'  # Specify the path to your TXT file\n",
        "data = load_data(file_path)\n",
        "train_data, dev_data, test_data = split_data(data)\n",
        "\n",
        "# Saving the datasets to different files\n",
        "save_data(train_data, 'train_data.txt')\n",
        "save_data(dev_data, 'dev_data.txt')\n",
        "save_data(test_data, 'test_data.txt')"
      ]
    }
  ],
  "metadata": {
    "colab": {
      "provenance": []
    },
    "kernelspec": {
      "display_name": "Python 3 (ipykernel)",
      "language": "python",
      "name": "python3"
    },
    "language_info": {
      "codemirror_mode": {
        "name": "ipython",
        "version": 3
      },
      "file_extension": ".py",
      "mimetype": "text/x-python",
      "name": "python",
      "nbconvert_exporter": "python",
      "pygments_lexer": "ipython3",
      "version": "3.8.3"
    }
  },
  "nbformat": 4,
  "nbformat_minor": 0
}